{
 "cells": [
  {
   "cell_type": "code",
   "execution_count": 1,
   "metadata": {},
   "outputs": [],
   "source": [
    "import pandas as pd\n",
    "import seaborn as sns\n",
    "import matplotlib.pyplot as plt\n",
    "import numpy as np\n",
    "import math\n",
    "import mpld3"
   ]
  },
  {
   "cell_type": "code",
   "execution_count": 2,
   "metadata": {},
   "outputs": [],
   "source": [
    "bangladesh_2015 = pd.read_excel(\"bangladesh-impexp-2015.xlsx\", sheet_name = \"Partner\")"
   ]
  },
  {
   "cell_type": "code",
   "execution_count": 3,
   "metadata": {},
   "outputs": [
    {
     "data": {
      "text/plain": [
       "181"
      ]
     },
     "execution_count": 3,
     "metadata": {},
     "output_type": "execute_result"
    }
   ],
   "source": [
    "len(bangladesh_2015)"
   ]
  },
  {
   "cell_type": "code",
   "execution_count": 4,
   "metadata": {},
   "outputs": [
    {
     "data": {
      "text/html": [
       "<div>\n",
       "<style scoped>\n",
       "    .dataframe tbody tr th:only-of-type {\n",
       "        vertical-align: middle;\n",
       "    }\n",
       "\n",
       "    .dataframe tbody tr th {\n",
       "        vertical-align: top;\n",
       "    }\n",
       "\n",
       "    .dataframe thead th {\n",
       "        text-align: right;\n",
       "    }\n",
       "</style>\n",
       "<table border=\"1\" class=\"dataframe\">\n",
       "  <thead>\n",
       "    <tr style=\"text-align: right;\">\n",
       "      <th></th>\n",
       "      <th>Reporter Name</th>\n",
       "      <th>Partner Name</th>\n",
       "      <th>Year</th>\n",
       "      <th>Trade Flow</th>\n",
       "      <th>Product Group</th>\n",
       "      <th>Export (US$ Thousand)</th>\n",
       "      <th>Import (US$ Thousand)</th>\n",
       "      <th>Export Product Share (%)</th>\n",
       "      <th>Import Product Share (%)</th>\n",
       "      <th>Revealed comparative advantage</th>\n",
       "      <th>...</th>\n",
       "      <th>MFN Total Tariff Lines</th>\n",
       "      <th>MFN Dutiable Tariff Lines Share (%)</th>\n",
       "      <th>MFN Duty Free Tariff Lines Share (%)</th>\n",
       "      <th>MFN Specific Tariff Lines Share (%)</th>\n",
       "      <th>MFN AVE Tariff Lines Share (%)</th>\n",
       "      <th>MFN MaxRate (%)</th>\n",
       "      <th>MFN MinRate (%)</th>\n",
       "      <th>MFN SpecificDuty Imports (US$ Thousand)</th>\n",
       "      <th>MFN Dutiable Imports (US$ Thousand)</th>\n",
       "      <th>MFN Duty Free Imports (US$ Thousand)</th>\n",
       "    </tr>\n",
       "  </thead>\n",
       "  <tbody>\n",
       "    <tr>\n",
       "      <th>0</th>\n",
       "      <td>Bangladesh</td>\n",
       "      <td>Aruba</td>\n",
       "      <td>2015</td>\n",
       "      <td>EXPIMP</td>\n",
       "      <td>Textiles</td>\n",
       "      <td>0.00</td>\n",
       "      <td>0.01</td>\n",
       "      <td>NaN</td>\n",
       "      <td>100.00</td>\n",
       "      <td>NaN</td>\n",
       "      <td>...</td>\n",
       "      <td>NaN</td>\n",
       "      <td>NaN</td>\n",
       "      <td>NaN</td>\n",
       "      <td>NaN</td>\n",
       "      <td>NaN</td>\n",
       "      <td>NaN</td>\n",
       "      <td>NaN</td>\n",
       "      <td>NaN</td>\n",
       "      <td>NaN</td>\n",
       "      <td>NaN</td>\n",
       "    </tr>\n",
       "    <tr>\n",
       "      <th>1</th>\n",
       "      <td>Bangladesh</td>\n",
       "      <td>Afghanistan</td>\n",
       "      <td>2015</td>\n",
       "      <td>EXPIMP</td>\n",
       "      <td>Textiles</td>\n",
       "      <td>176.97</td>\n",
       "      <td>8.05</td>\n",
       "      <td>3.76</td>\n",
       "      <td>15.83</td>\n",
       "      <td>NaN</td>\n",
       "      <td>...</td>\n",
       "      <td>NaN</td>\n",
       "      <td>NaN</td>\n",
       "      <td>NaN</td>\n",
       "      <td>NaN</td>\n",
       "      <td>NaN</td>\n",
       "      <td>NaN</td>\n",
       "      <td>NaN</td>\n",
       "      <td>NaN</td>\n",
       "      <td>NaN</td>\n",
       "      <td>NaN</td>\n",
       "    </tr>\n",
       "    <tr>\n",
       "      <th>2</th>\n",
       "      <td>Bangladesh</td>\n",
       "      <td>Albania</td>\n",
       "      <td>2015</td>\n",
       "      <td>EXPIMP</td>\n",
       "      <td>Textiles</td>\n",
       "      <td>2749.99</td>\n",
       "      <td>0.05</td>\n",
       "      <td>100.00</td>\n",
       "      <td>82.76</td>\n",
       "      <td>10.17</td>\n",
       "      <td>...</td>\n",
       "      <td>NaN</td>\n",
       "      <td>NaN</td>\n",
       "      <td>NaN</td>\n",
       "      <td>NaN</td>\n",
       "      <td>NaN</td>\n",
       "      <td>NaN</td>\n",
       "      <td>NaN</td>\n",
       "      <td>NaN</td>\n",
       "      <td>NaN</td>\n",
       "      <td>NaN</td>\n",
       "    </tr>\n",
       "    <tr>\n",
       "      <th>3</th>\n",
       "      <td>Bangladesh</td>\n",
       "      <td>Andorra</td>\n",
       "      <td>2015</td>\n",
       "      <td>EXPIMP</td>\n",
       "      <td>Textiles</td>\n",
       "      <td>0.00</td>\n",
       "      <td>2.22</td>\n",
       "      <td>NaN</td>\n",
       "      <td>58.36</td>\n",
       "      <td>NaN</td>\n",
       "      <td>...</td>\n",
       "      <td>NaN</td>\n",
       "      <td>NaN</td>\n",
       "      <td>NaN</td>\n",
       "      <td>NaN</td>\n",
       "      <td>NaN</td>\n",
       "      <td>NaN</td>\n",
       "      <td>NaN</td>\n",
       "      <td>NaN</td>\n",
       "      <td>NaN</td>\n",
       "      <td>NaN</td>\n",
       "    </tr>\n",
       "    <tr>\n",
       "      <th>4</th>\n",
       "      <td>Bangladesh</td>\n",
       "      <td>United Arab Emirates</td>\n",
       "      <td>2015</td>\n",
       "      <td>EXPIMP</td>\n",
       "      <td>Textiles</td>\n",
       "      <td>249172.96</td>\n",
       "      <td>231082.18</td>\n",
       "      <td>70.46</td>\n",
       "      <td>25.62</td>\n",
       "      <td>35.78</td>\n",
       "      <td>...</td>\n",
       "      <td>NaN</td>\n",
       "      <td>NaN</td>\n",
       "      <td>NaN</td>\n",
       "      <td>NaN</td>\n",
       "      <td>NaN</td>\n",
       "      <td>NaN</td>\n",
       "      <td>NaN</td>\n",
       "      <td>NaN</td>\n",
       "      <td>NaN</td>\n",
       "      <td>NaN</td>\n",
       "    </tr>\n",
       "  </tbody>\n",
       "</table>\n",
       "<p>5 rows × 36 columns</p>\n",
       "</div>"
      ],
      "text/plain": [
       "  Reporter Name          Partner Name  Year Trade Flow Product Group  \\\n",
       "0    Bangladesh                 Aruba  2015     EXPIMP      Textiles   \n",
       "1    Bangladesh           Afghanistan  2015     EXPIMP      Textiles   \n",
       "2    Bangladesh               Albania  2015     EXPIMP      Textiles   \n",
       "3    Bangladesh               Andorra  2015     EXPIMP      Textiles   \n",
       "4    Bangladesh  United Arab Emirates  2015     EXPIMP      Textiles   \n",
       "\n",
       "   Export (US$ Thousand)  Import (US$ Thousand)  Export Product Share (%)  \\\n",
       "0                   0.00                   0.01                       NaN   \n",
       "1                 176.97                   8.05                      3.76   \n",
       "2                2749.99                   0.05                    100.00   \n",
       "3                   0.00                   2.22                       NaN   \n",
       "4              249172.96              231082.18                     70.46   \n",
       "\n",
       "   Import Product Share (%)  Revealed comparative advantage  \\\n",
       "0                    100.00                             NaN   \n",
       "1                     15.83                             NaN   \n",
       "2                     82.76                           10.17   \n",
       "3                     58.36                             NaN   \n",
       "4                     25.62                           35.78   \n",
       "\n",
       "                   ...                   MFN Total Tariff Lines  \\\n",
       "0                  ...                                      NaN   \n",
       "1                  ...                                      NaN   \n",
       "2                  ...                                      NaN   \n",
       "3                  ...                                      NaN   \n",
       "4                  ...                                      NaN   \n",
       "\n",
       "   MFN Dutiable Tariff Lines Share (%)  MFN Duty Free Tariff Lines Share (%)  \\\n",
       "0                                  NaN                                   NaN   \n",
       "1                                  NaN                                   NaN   \n",
       "2                                  NaN                                   NaN   \n",
       "3                                  NaN                                   NaN   \n",
       "4                                  NaN                                   NaN   \n",
       "\n",
       "   MFN Specific Tariff Lines Share (%)  MFN AVE Tariff Lines Share (%)  \\\n",
       "0                                  NaN                             NaN   \n",
       "1                                  NaN                             NaN   \n",
       "2                                  NaN                             NaN   \n",
       "3                                  NaN                             NaN   \n",
       "4                                  NaN                             NaN   \n",
       "\n",
       "   MFN MaxRate (%)  MFN MinRate (%)  MFN SpecificDuty Imports (US$ Thousand)  \\\n",
       "0              NaN              NaN                                      NaN   \n",
       "1              NaN              NaN                                      NaN   \n",
       "2              NaN              NaN                                      NaN   \n",
       "3              NaN              NaN                                      NaN   \n",
       "4              NaN              NaN                                      NaN   \n",
       "\n",
       "   MFN Dutiable Imports (US$ Thousand)  MFN Duty Free Imports (US$ Thousand)  \n",
       "0                                  NaN                                   NaN  \n",
       "1                                  NaN                                   NaN  \n",
       "2                                  NaN                                   NaN  \n",
       "3                                  NaN                                   NaN  \n",
       "4                                  NaN                                   NaN  \n",
       "\n",
       "[5 rows x 36 columns]"
      ]
     },
     "execution_count": 4,
     "metadata": {},
     "output_type": "execute_result"
    }
   ],
   "source": [
    "bangladesh_2015.head()"
   ]
  },
  {
   "cell_type": "code",
   "execution_count": 5,
   "metadata": {},
   "outputs": [
    {
     "data": {
      "text/plain": [
       "Index(['Reporter Name', 'Partner Name', 'Year', 'Trade Flow', 'Product Group',\n",
       "       'Export (US$ Thousand)', 'Import (US$ Thousand)',\n",
       "       'Export Product Share (%)', 'Import Product Share (%)',\n",
       "       'Revealed comparative advantage', 'World Growth (%)',\n",
       "       'Country Growth (%)', 'AHS Simple Average (%)',\n",
       "       'AHS Weighted Average (%)', 'AHS Total Tariff Lines',\n",
       "       'AHS Dutiable Tariff Lines Share (%)',\n",
       "       'AHS Duty Free Tariff Lines Share (%)',\n",
       "       'AHS Specific Tariff Lines Share (%)', 'AHS AVE Tariff Lines Share (%)',\n",
       "       'AHS MaxRate (%)', 'AHS MinRate (%)',\n",
       "       'AHS SpecificDuty Imports (US$ Thousand)',\n",
       "       'AHS Dutiable Imports (US$ Thousand)',\n",
       "       'AHS Duty Free Imports (US$ Thousand)', 'MFN Simple Average (%)',\n",
       "       'MFN Weighted Average (%)', 'MFN Total Tariff Lines',\n",
       "       'MFN Dutiable Tariff Lines Share (%)',\n",
       "       'MFN Duty Free Tariff Lines Share (%)',\n",
       "       'MFN Specific Tariff Lines Share (%)', 'MFN AVE Tariff Lines Share (%)',\n",
       "       'MFN MaxRate (%)', 'MFN MinRate (%)',\n",
       "       'MFN SpecificDuty Imports (US$ Thousand)',\n",
       "       'MFN Dutiable Imports (US$ Thousand)',\n",
       "       'MFN Duty Free Imports (US$ Thousand)'],\n",
       "      dtype='object')"
      ]
     },
     "execution_count": 5,
     "metadata": {},
     "output_type": "execute_result"
    }
   ],
   "source": [
    "bangladesh_2015.columns"
   ]
  },
  {
   "cell_type": "code",
   "execution_count": 6,
   "metadata": {
    "collapsed": true
   },
   "outputs": [],
   "source": [
    "bangladesh_2013 = pd.read_excel(\"bangladesh-impexp-2013.xlsx\", sheet_name = \"Partner\")\n",
    "bangladesh_2012 = pd.read_excel(\"bangladesh-impexp-2012.xlsx\", sheet_name = \"Partner\")\n",
    "bangladesh_2011 = pd.read_excel(\"bangladesh-impexp-2011.xlsx\", sheet_name = \"Partner\")\n",
    "bangladesh_2010 = pd.read_excel(\"bangladesh-impexp-2010.xlsx\", sheet_name = \"Partner\")"
   ]
  },
  {
   "cell_type": "code",
   "execution_count": 7,
   "metadata": {},
   "outputs": [
    {
     "name": "stdout",
     "output_type": "stream",
     "text": [
      "False\n",
      "False\n",
      "False\n",
      "False\n",
      "False\n"
     ]
    }
   ],
   "source": [
    "# check for nan / None / unexpected values in Export & Import cols\n",
    "print(bangladesh_2015['Export (US$ Thousand)'].isnull().values.any())\n",
    "print(bangladesh_2013['Export (US$ Thousand)'].isnull().values.any())\n",
    "print(bangladesh_2012['Export (US$ Thousand)'].isnull().values.any())\n",
    "print(bangladesh_2011['Export (US$ Thousand)'].isnull().values.any())\n",
    "print(bangladesh_2010['Export (US$ Thousand)'].isnull().values.any())"
   ]
  },
  {
   "cell_type": "code",
   "execution_count": 8,
   "metadata": {},
   "outputs": [
    {
     "name": "stdout",
     "output_type": "stream",
     "text": [
      "False\n",
      "False\n",
      "False\n",
      "False\n",
      "False\n"
     ]
    }
   ],
   "source": [
    "print(bangladesh_2015['Import (US$ Thousand)'].isnull().values.any())\n",
    "print(bangladesh_2013['Import (US$ Thousand)'].isnull().values.any())\n",
    "print(bangladesh_2012['Import (US$ Thousand)'].isnull().values.any())\n",
    "print(bangladesh_2011['Import (US$ Thousand)'].isnull().values.any())\n",
    "print(bangladesh_2010['Import (US$ Thousand)'].isnull().values.any())"
   ]
  },
  {
   "cell_type": "code",
   "execution_count": 9,
   "metadata": {},
   "outputs": [
    {
     "name": "stdout",
     "output_type": "stream",
     "text": [
      "True\n"
     ]
    }
   ],
   "source": [
    "print(bangladesh_2015['MFN Specific Tariff Lines Share (%)'].isnull().values.any())"
   ]
  },
  {
   "cell_type": "markdown",
   "metadata": {},
   "source": [
    "We have clean data for every year for the Import and Export cols."
   ]
  },
  {
   "cell_type": "code",
   "execution_count": 10,
   "metadata": {
    "collapsed": true
   },
   "outputs": [],
   "source": [
    "# compare exports from Bangladesh vs. imports in textiles\n",
    "impexpdiff_2015 = bangladesh_2015['Export (US$ Thousand)'] - bangladesh_2015['Import (US$ Thousand)']"
   ]
  },
  {
   "cell_type": "code",
   "execution_count": 11,
   "metadata": {},
   "outputs": [
    {
     "data": {
      "text/plain": [
       "0       -0.01\n",
       "1      168.92\n",
       "2     2749.94\n",
       "3       -2.22\n",
       "4    18090.78\n",
       "dtype: float64"
      ]
     },
     "execution_count": 11,
     "metadata": {},
     "output_type": "execute_result"
    }
   ],
   "source": [
    "impexpdiff_2015.head()"
   ]
  },
  {
   "cell_type": "code",
   "execution_count": 12,
   "metadata": {
    "collapsed": true
   },
   "outputs": [],
   "source": [
    "# create a new table with partner country, exports, imports, difference\n",
    "impexp_basic_data_2015 = {\"Partner Country\": bangladesh_2015['Partner Name'], \n",
    "                          'Import (US$ Thousand)': bangladesh_2015['Import (US$ Thousand)'], \n",
    "                          'Export (US$ Thousand)': bangladesh_2015['Export (US$ Thousand)'], \n",
    "                          \"Difference\": impexpdiff_2015}\n",
    "impexp_basic = pd.DataFrame(impexp_basic_data_2015)"
   ]
  },
  {
   "cell_type": "code",
   "execution_count": 13,
   "metadata": {},
   "outputs": [
    {
     "data": {
      "text/html": [
       "<div>\n",
       "<style scoped>\n",
       "    .dataframe tbody tr th:only-of-type {\n",
       "        vertical-align: middle;\n",
       "    }\n",
       "\n",
       "    .dataframe tbody tr th {\n",
       "        vertical-align: top;\n",
       "    }\n",
       "\n",
       "    .dataframe thead th {\n",
       "        text-align: right;\n",
       "    }\n",
       "</style>\n",
       "<table border=\"1\" class=\"dataframe\">\n",
       "  <thead>\n",
       "    <tr style=\"text-align: right;\">\n",
       "      <th></th>\n",
       "      <th>Partner Country</th>\n",
       "      <th>Import (US$ Thousand)</th>\n",
       "      <th>Export (US$ Thousand)</th>\n",
       "      <th>Difference</th>\n",
       "    </tr>\n",
       "  </thead>\n",
       "  <tbody>\n",
       "    <tr>\n",
       "      <th>0</th>\n",
       "      <td>Aruba</td>\n",
       "      <td>0.01</td>\n",
       "      <td>0.00</td>\n",
       "      <td>-0.01</td>\n",
       "    </tr>\n",
       "    <tr>\n",
       "      <th>1</th>\n",
       "      <td>Afghanistan</td>\n",
       "      <td>8.05</td>\n",
       "      <td>176.97</td>\n",
       "      <td>168.92</td>\n",
       "    </tr>\n",
       "    <tr>\n",
       "      <th>2</th>\n",
       "      <td>Albania</td>\n",
       "      <td>0.05</td>\n",
       "      <td>2749.99</td>\n",
       "      <td>2749.94</td>\n",
       "    </tr>\n",
       "    <tr>\n",
       "      <th>3</th>\n",
       "      <td>Andorra</td>\n",
       "      <td>2.22</td>\n",
       "      <td>0.00</td>\n",
       "      <td>-2.22</td>\n",
       "    </tr>\n",
       "    <tr>\n",
       "      <th>4</th>\n",
       "      <td>United Arab Emirates</td>\n",
       "      <td>231082.18</td>\n",
       "      <td>249172.96</td>\n",
       "      <td>18090.78</td>\n",
       "    </tr>\n",
       "  </tbody>\n",
       "</table>\n",
       "</div>"
      ],
      "text/plain": [
       "        Partner Country  Import (US$ Thousand)  Export (US$ Thousand)  \\\n",
       "0                 Aruba                   0.01                   0.00   \n",
       "1           Afghanistan                   8.05                 176.97   \n",
       "2               Albania                   0.05                2749.99   \n",
       "3               Andorra                   2.22                   0.00   \n",
       "4  United Arab Emirates              231082.18              249172.96   \n",
       "\n",
       "   Difference  \n",
       "0       -0.01  \n",
       "1      168.92  \n",
       "2     2749.94  \n",
       "3       -2.22  \n",
       "4    18090.78  "
      ]
     },
     "execution_count": 13,
     "metadata": {},
     "output_type": "execute_result"
    }
   ],
   "source": [
    "impexp_basic.head()"
   ]
  },
  {
   "cell_type": "code",
   "execution_count": 14,
   "metadata": {},
   "outputs": [
    {
     "name": "stdout",
     "output_type": "stream",
     "text": [
      "\n",
      "Note: if you're in the IPython notebook, mpld3.show() is not the best command\n",
      "      to use. Consider using mpld3.display(), or mpld3.enable_notebook().\n",
      "      See more information at http://mpld3.github.io/quickstart.html .\n",
      "\n",
      "You must interrupt the kernel to end this command\n",
      "\n",
      "Serving to http://127.0.0.1:8889/    [Ctrl-C to exit]\n"
     ]
    },
    {
     "name": "stderr",
     "output_type": "stream",
     "text": [
      "/Users/lilybhattacharjee/anaconda3/lib/python3.6/site-packages/matplotlib/cbook/deprecation.py:106: MatplotlibDeprecationWarning: The axisbg attribute was deprecated in version 2.0. Use facecolor instead.\n",
      "  warnings.warn(message, mplDeprecation, stacklevel=1)\n",
      "127.0.0.1 - - [29/Oct/2018 22:01:58] \"GET /d3.js HTTP/1.1\" 200 -\n",
      "127.0.0.1 - - [29/Oct/2018 22:01:58] \"GET /mpld3.js HTTP/1.1\" 200 -\n",
      "127.0.0.1 - - [29/Oct/2018 22:01:58] \"GET / HTTP/1.1\" 200 -\n"
     ]
    },
    {
     "name": "stdout",
     "output_type": "stream",
     "text": [
      "\n",
      "stopping Server...\n"
     ]
    }
   ],
   "source": [
    "fig, ax = plt.subplots(subplot_kw=dict(axisbg='#EEEEEE'), figsize=(15,15))\n",
    "N = 181\n",
    "\n",
    "scatter = ax.scatter(x = impexp_basic['Export (US$ Thousand)'], \n",
    "                     y = impexp_basic['Import (US$ Thousand)'], \n",
    "                     c = np.random.random(size=N),\n",
    "                     s = 70,\n",
    "                     alpha = 0.3,\n",
    "                     cmap = plt.cm.jet)\n",
    "\n",
    "ax.grid(color='white', linestyle='solid')\n",
    "\n",
    "ax.set_xlabel('Export (US$ Thousand)')\n",
    "ax.set_ylabel('Import (US$ Thousand)')\n",
    "ax.set_title(\"Bangladesh Imports vs. Exports in Textiles (2015)\", size=20)\n",
    "\n",
    "labels = list(impexp_basic['Partner Country'])\n",
    "tooltip = mpld3.plugins.PointLabelTooltip(scatter, labels=labels)\n",
    "mpld3.plugins.connect(fig, tooltip)\n",
    "\n",
    "mpld3.show()"
   ]
  }
 ],
 "metadata": {
  "kernelspec": {
   "display_name": "Python 3",
   "language": "python",
   "name": "python3"
  },
  "language_info": {
   "codemirror_mode": {
    "name": "ipython",
    "version": 3
   },
   "file_extension": ".py",
   "mimetype": "text/x-python",
   "name": "python",
   "nbconvert_exporter": "python",
   "pygments_lexer": "ipython3",
   "version": "3.6.3"
  }
 },
 "nbformat": 4,
 "nbformat_minor": 2
}
